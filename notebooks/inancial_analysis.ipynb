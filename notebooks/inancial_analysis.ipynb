{
 "cells": [
  {
   "cell_type": "markdown",
   "metadata": {},
   "source": [
    "# 导入库"
   ]
  },
  {
   "cell_type": "code",
   "execution_count": null,
   "metadata": {
    "vscode": {
     "languageId": "plaintext"
    }
   },
   "outputs": [],
   "source": [
    "import sys\n",
    "sys.path.append('../src')\n",
    "from data_fetch import fetch_all_income_statements\n",
    "from data_clean import clean_income_statements\n",
    "from analysis import analyze_income_statements\n",
    "from visualization import visualize_top_companies"
   ]
  },
  {
   "cell_type": "code",
   "execution_count": null,
   "metadata": {
    "vscode": {
     "languageId": "plaintext"
    }
   },
   "outputs": [],
   "source": [
    "\n",
    "# 设置报告期\n",
    "report_date = '20230331'  # 替换为你需要的报告期\n",
    "\n",
    "# 数据获取\n",
    "df = fetch_all_income_statements(report_date)\n",
    "df.to_csv('../data/raw/income_statements_{}.csv'.format(report_date), index=False)\n",
    "\n",
    "# 数据清洗\n",
    "input_file = '../data/raw/income_statements_{}.csv'.format(report_date)\n",
    "output_file = '../data/clean/income_statements_clean_{}.csv'.format(report_date)\n",
    "clean_income_statements(input_file, output_file)\n",
    "\n",
    "# 数据分析\n",
    "analysis_output_file = '../data/analysis/top_10_profit_margin_{}.csv'.format(report_date)\n",
    "top_companies = analyze_income_statements(output_file, analysis_output_file)\n",
    "\n",
    "# 数据可视化\n",
    "visualize_top_companies(analysis_output_file)"
   ]
  },
  {
   "cell_type": "code",
   "execution_count": null,
   "metadata": {
    "vscode": {
     "languageId": "plaintext"
    }
   },
   "outputs": [],
   "source": []
  }
 ],
 "metadata": {
  "language_info": {
   "name": "python"
  }
 },
 "nbformat": 4,
 "nbformat_minor": 2
}
